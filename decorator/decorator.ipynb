{
 "cells": [
  {
   "cell_type": "code",
   "execution_count": 7,
   "id": "08bbeb76",
   "metadata": {},
   "outputs": [],
   "source": [
    "def hello(name=\"zura\"):\n",
    "    \n",
    "    print(\"hello\",name)"
   ]
  },
  {
   "cell_type": "code",
   "execution_count": null,
   "id": "483b5eac",
   "metadata": {},
   "outputs": [],
   "source": [
    "def bye(name):\n",
    "    print(\"bye\",name)"
   ]
  },
  {
   "cell_type": "code",
   "execution_count": 19,
   "id": "f4623a64",
   "metadata": {},
   "outputs": [],
   "source": [
    "def decor(hello):\n",
    "    def wrap():\n",
    "    \n",
    "        print(\"start talking\")\n",
    "        hello()\n",
    "        print(\"end talking\")\n",
    "    return wrap\n",
    "  \n",
    "\n"
   ]
  },
  {
   "cell_type": "code",
   "execution_count": 21,
   "id": "e6ff8c54",
   "metadata": {},
   "outputs": [],
   "source": [
    "@decor\n",
    "def decorLess():\n",
    "    print(\"I need decor\")"
   ]
  },
  {
   "cell_type": "code",
   "execution_count": 22,
   "id": "dadb540c",
   "metadata": {},
   "outputs": [
    {
     "name": "stdout",
     "output_type": "stream",
     "text": [
      "start talking\n",
      "I need decor\n",
      "end talking\n"
     ]
    }
   ],
   "source": [
    "decorLess()"
   ]
  },
  {
   "cell_type": "code",
   "execution_count": 20,
   "id": "8af3b00d",
   "metadata": {},
   "outputs": [
    {
     "name": "stdout",
     "output_type": "stream",
     "text": [
      "start talking\n",
      "I need decor\n",
      "end talking\n"
     ]
    }
   ],
   "source": [
    "decor(decorLess)()"
   ]
  }
 ],
 "metadata": {
  "hide_input": false,
  "kernelspec": {
   "display_name": "Python 3",
   "language": "python",
   "name": "python3"
  },
  "language_info": {
   "codemirror_mode": {
    "name": "ipython",
    "version": 3
   },
   "file_extension": ".py",
   "mimetype": "text/x-python",
   "name": "python",
   "nbconvert_exporter": "python",
   "pygments_lexer": "ipython3",
   "version": "3.8.5"
  }
 },
 "nbformat": 4,
 "nbformat_minor": 5
}
